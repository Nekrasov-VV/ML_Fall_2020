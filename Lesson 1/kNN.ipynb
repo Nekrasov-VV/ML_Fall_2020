{
 "cells": [
  {
   "cell_type": "markdown",
   "metadata": {},
   "source": [
    "Алгоритм k ближайших соседей.\n",
    "Выдержка из конспекта на EDU:\n",
    "\n",
    "Рассмотрим один из самых простых алгоритмов для задачи классификации KNN - k ближайших соседей. Пусть перед нами стоит задача бинарной классификации — 0 или 1. Рассмотрим ситуацию, когда все признаки — вещественные числа. В дальнейшем, при изучении курса вы сумеете переводить номинальные и порядковые признаки в числа. Пусть у нас имеется обучающая выборка $X_{train} = \\{x_1, ..., x_N \\}$, где каждый $x_i$ --- вектор из $m$ признаков. Для каждого объекта из обучающей выборки известна целевая переменная $y_i \\in \\{0,1\\}$. А так же пусть имеется тестовая выборка $X_{test} =\\{x_{N+1}, ..., x_{N+M}\\}$\n",
    "Для них неизвестна целевая переменная, это мы должны выяснить сами.\n",
    "\n",
    "Сам алгоритм:\n",
    "1. Для каждого из объектов тестовой выборки $x_{N+i}$\n",
    "2. Находим k ближайших к нему соседей из обучающей выборки $X_{train}$\n",
    "Ближайших в смысле Евклидового расстояния:\n",
    "$p(x;y)=\\sqrt{(x_1-y_1)^2+\\dots+(x_m-y_m)^2}$\n",
    "3. Если среди этих ближайших соседей больше нулей, то для объекта $x_{N+i}$ выдаем ответ — 0, иначе — 1\n",
    "Вот и весь алгоритм. Его можно немного модифицировать — использовать вместо Евклидового расстояния другие метрики. К сожалению, алгоритм не часто используется на практике, но неплохо подходит для обучения."
   ]
  },
  {
   "cell_type": "markdown",
   "metadata": {},
   "source": [
    "У меня вышло немного громоздко из-за индексации, т.к., если честно, осознал ещё не все удобства итерации в питоне (до курса большей частью писал на С/С++)."
   ]
  },
  {
   "cell_type": "code",
   "execution_count": 1,
   "metadata": {},
   "outputs": [],
   "source": [
    "import numpy as np\n",
    "import matplotlib.pyplot as plt\n",
    "from sklearn.datasets import load_digits\n",
    "from sklearn.ensemble import RandomForestClassifier\n",
    "\n",
    "%matplotlib inline"
   ]
  },
  {
   "cell_type": "code",
   "execution_count": 2,
   "metadata": {},
   "outputs": [],
   "source": [
    "points = []\n",
    "# Параметр k\n",
    "k=3\n",
    "# Параметры класcов\n",
    "num_clusters = 2\n",
    "train_cluster_size = 20\n",
    "test_cluster_size = 10\n",
    "\n",
    "\n",
    "# Центры классов\n",
    "means_x = [1., 0.8]\n",
    "means_y = [0.5, 0.5]\n",
    "\n",
    "# Разброс\n",
    "std = 0.1\n",
    "\n",
    "# Создание обучающей и тестовой выборки(потом сравним с тем, что скажет kNN)\n",
    "for j in range(num_clusters):\n",
    "    for i in range(train_cluster_size+test_cluster_size):\n",
    "        x_i = np.random.normal(loc=means_x[j], scale=std)\n",
    "        y_i = np.random.normal(loc=means_y[j], scale=std)\n",
    "        points.append([ (x_i, y_i) , j ])"
   ]
  },
  {
   "cell_type": "code",
   "execution_count": 3,
   "metadata": {},
   "outputs": [
    {
     "data": {
      "text/plain": [
       "<matplotlib.collections.PathCollection at 0x9558dc0>"
      ]
     },
     "execution_count": 3,
     "metadata": {},
     "output_type": "execute_result"
    },
    {
     "data": {
      "image/png": "[encoded data removed]",
      "text/plain": [
       "<Figure size 432x288 with 1 Axes>"
      ]
     },
     "metadata": {
      "needs_background": "light"
     },
     "output_type": "display_data"
    }
   ],
   "source": [
    "points_x = list(map(lambda x: x[0][0], points))\n",
    "points_y = list(map(lambda x: x[0][1], points))\n",
    "colors = [0] * train_cluster_size + [2] * test_cluster_size + [1] * train_cluster_size + [2] * test_cluster_size\n",
    "plt.scatter(x=points_x, y=points_y, c=colors)\n",
    "\n",
    "#синие точки надо распределить"
   ]
  },
  {
   "cell_type": "code",
   "execution_count": 4,
   "metadata": {},
   "outputs": [],
   "source": [
    "# Записали тестовые точки, с которыми будем работать\n",
    "real_test_points=[]\n",
    "for j in range(num_clusters):\n",
    "    for i in range(train_cluster_size,train_cluster_size+test_cluster_size,1):\n",
    "        real_test_points.append( [ (points[i+j*(train_cluster_size+test_cluster_size)][0][0],points[i+j*(train_cluster_size+test_cluster_size)][0][1]) , points[i+j*(train_cluster_size+test_cluster_size)][1] ] )"
   ]
  },
  {
   "cell_type": "code",
   "execution_count": 5,
   "metadata": {},
   "outputs": [],
   "source": [
    "def dist(x,y):\n",
    "    res=0\n",
    "    for i in range(len(x)):\n",
    "        res+=(x[i]-y[i])**2\n",
    "    return res**0.5\n"
   ]
  },
  {
   "cell_type": "code",
   "execution_count": 6,
   "metadata": {},
   "outputs": [],
   "source": [
    "def kNN(k, points, num_clusters, train_cluster_size, test_cluster_size):\n",
    "    \"\"\"\n",
    "    @param k: количество соседей\n",
    "    @param num_clusters: число кластеров, на которое необходимо поделить\n",
    "    @param points: список из пар координат точек\n",
    "    @param train_cluster_size: размер класса в обучающей выборке\n",
    "    @param test_cluster_size: размер класса в тестовой выборке\n",
    "    \n",
    "    @return: тестовые точки и их класс\n",
    "    \"\"\"\n",
    "    # Записали тестовые точки, с которыми будем работать\n",
    "    test_points=[]\n",
    "    for j in range(num_clusters):\n",
    "        for i in range(train_cluster_size,train_cluster_size+test_cluster_size,1):\n",
    "            test_points.append( [ (points[i+j*(train_cluster_size+test_cluster_size)][0][0],points[i+j*(train_cluster_size+test_cluster_size)][0][1]) , -1 ] )\n",
    "    \n",
    "    for t in range(len(test_points)):\n",
    "        # Массив элеметов вида (точка, расстояние до нее) (для каждой тестовой точки свой)\n",
    "        distances=[]\n",
    "        neighbours=[]\n",
    "        for j in range(num_clusters):\n",
    "            for i in range(train_cluster_size):\n",
    "                distances.append( (dist(test_points[t][0], points[i+j*(train_cluster_size+test_cluster_size)][0]) , points[i+j*(train_cluster_size+test_cluster_size)]) )\n",
    "        # Сортируем полученный массив по расстояням\n",
    "        distances.sort()\n",
    "        # Берем первые k\n",
    "        neighbours=distances[:k]\n",
    "        \n",
    "        #идём по сосдеям\n",
    "        count=0\n",
    "        for neigh in neighbours:\n",
    "            if neigh[1][1]==0:\n",
    "                count+=1\n",
    "        if num_clusters*count > k:\n",
    "           test_points[t][1]=0\n",
    "        else:\n",
    "           test_points[t][1]=1     \n",
    "    return test_points"
   ]
  },
  {
   "cell_type": "code",
   "execution_count": 7,
   "metadata": {},
   "outputs": [],
   "source": [
    "#Вызов kNN\n",
    "knn_test_points=kNN(k, points, num_clusters, train_cluster_size, test_cluster_size)"
   ]
  },
  {
   "cell_type": "code",
   "execution_count": 8,
   "metadata": {},
   "outputs": [],
   "source": [
    "#проверка ошибок\n",
    "def check(knn_test_points, real_test_points):\n",
    "    err=0\n",
    "    for j in range(len(knn_test_points)):\n",
    "        if knn_test_points[j][1]!=real_test_points[j][1]:\n",
    "            err+=1\n",
    "    return err"
   ]
  },
  {
   "cell_type": "code",
   "execution_count": 9,
   "metadata": {},
   "outputs": [
    {
     "data": {
      "text/plain": [
       "2"
      ]
     },
     "execution_count": 9,
     "metadata": {},
     "output_type": "execute_result"
    }
   ],
   "source": [
    "check(knn_test_points, real_test_points)"
   ]
  },
  {
   "cell_type": "markdown",
   "metadata": {},
   "source": [
    "Получили 2 ошибки на 20 точках, что кажется неплохим результатом"
   ]
  }
 ],
 "metadata": {
  "kernelspec": {
   "display_name": "Python 3",
   "language": "python",
   "name": "python3"
  },
  "language_info": {
   "codemirror_mode": {
    "name": "ipython",
    "version": 3
   },
   "file_extension": ".py",
   "mimetype": "text/x-python",
   "name": "python",
   "nbconvert_exporter": "python",
   "pygments_lexer": "ipython3",
   "version": "3.8.3"
  }
 },
 "nbformat": 4,
 "nbformat_minor": 4
}
